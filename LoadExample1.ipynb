{
 "cells": [
  {
   "cell_type": "code",
   "execution_count": 1,
   "metadata": {},
   "outputs": [],
   "source": [
    "import torch\n",
    "import torch.nn as nn\n",
    "import torch.optim as optim\n",
    "from torch.autograd.functional import jacobian\n",
    "from functorch import vmap, jacrev\n",
    "import matplotlib.pyplot as plt\n",
    "import datetime"
   ]
  },
  {
   "cell_type": "code",
   "execution_count": 2,
   "metadata": {},
   "outputs": [
    {
     "name": "stdout",
     "output_type": "stream",
     "text": [
      "Using device: cuda\n"
     ]
    }
   ],
   "source": [
    "# ------------------------------\n",
    "# Set up the device: GPU if available, otherwise CPU\n",
    "# ------------------------------\n",
    "device = torch.device(\"cuda\" if torch.cuda.is_available() else \"cpu\")\n",
    "print(f\"Using device: {device}\")\n",
    "\n",
    "# ------------------------------\n",
    "# Define ODE constants and the ODE function φ on the selected device\n",
    "# ------------------------------\n",
    "D = torch.tensor([-9.54, -8.16, -4.26, -11.43], dtype=torch.float32, device=device)\n",
    "A = torch.tensor(\n",
    "    [[3.18, 2.72, 1.42, 3.81]], dtype=torch.float32, device=device\n",
    ")  # shape: (4,)\n",
    "b = torch.tensor([[7.81]], dtype=torch.float32, device=device)  # scalar\n",
    "\n",
    "\n",
    "# def phi(y):\n",
    "#     \"\"\"\n",
    "#     Given y (a tensor of shape (5,)), compute:\n",
    "#       x = y[:4]\n",
    "#       u = y[4:5]\n",
    "#       m = max(0, u + dot(A, x) - b)\n",
    "#     and return\n",
    "#       [ -(D + A*m); m - u ] as a tensor of shape (5,)\n",
    "#     \"\"\"\n",
    "#     x = y[:4]\n",
    "#     u = y[4]\n",
    "#     m = torch.clamp(u + torch.dot(A, x) - b, min=0.0)\n",
    "#     top = -(D + A * m)\n",
    "#     bottom = m - u\n",
    "#     return torch.cat((top, bottom.unsqueeze(0)))  # resulting shape: (5,)\n",
    "\n",
    "\n",
    "def createPhi(D, A, b):\n",
    "    _, n = A.shape\n",
    "\n",
    "    def phi(y):\n",
    "        \"\"\"\n",
    "        Given y (a tensor of shape (6,)), where:\n",
    "          x = y[:4] ∈ ℝ⁴,\n",
    "          u = y[4:] ∈ ℝ² (treated as a column vector),\n",
    "        compute:\n",
    "          m = max(0, u + A @ x - b) ∈ ℝ²,\n",
    "        and return:\n",
    "          [ -(D + Aᵀ @ m);  m - u ] as a tensor of shape (6,).\n",
    "\n",
    "        Note: This function assumes:\n",
    "          - A is a tensor of shape (2,4)\n",
    "          - D is a tensor of shape (4,)\n",
    "          - b is a scalar.\n",
    "        \"\"\"\n",
    "        # Convert x to a column vector of shape (4,1)\n",
    "        x = y[:n]  # shape: (4,1)\n",
    "        # Convert u to a column vector of shape (2,1)\n",
    "        u = y[n:]  # shape: (2,1)\n",
    "\n",
    "        # Compute m = max(0, u + A @ x - b)\n",
    "        m = torch.clamp(u + A @ x - b, min=0.0)  # shape: (2,1)\n",
    "\n",
    "        # Compute top = -(D + Aᵀ @ m)\n",
    "        # Ensure D is used as a column vector by unsqueezing it.\n",
    "        top = -(D.unsqueeze(1) + A.t() @ m)  # shape: (4,1)\n",
    "\n",
    "        # Compute bottom = m - u\n",
    "        bottom = m - u  # shape: (2,1)\n",
    "\n",
    "        # Concatenate top and bottom along the first dimension and squeeze to get shape (6,)\n",
    "        return torch.cat((top, bottom), dim=0).squeeze(1)\n",
    "\n",
    "    return phi\n",
    "\n",
    "\n",
    "phi = createPhi(D, A, b)\n",
    "\n",
    "\n",
    "# ------------------------------\n",
    "# Define the PINN model (moved to GPU)\n",
    "# ------------------------------\n",
    "class PINN(nn.Module):\n",
    "    def __init__(self):\n",
    "        super(PINN, self).__init__()\n",
    "        # Two-layer network: input dimension 1 -> 100 -> 5\n",
    "        self.fc1 = nn.Linear(1, 100)\n",
    "        self.fc2 = nn.Linear(100, 5)\n",
    "        self.activation = nn.Tanh()\n",
    "\n",
    "    def forward(self, t):\n",
    "        \"\"\"\n",
    "        Forward pass for a scalar (or batch) time input.\n",
    "        We assume t is a tensor of shape (N, 1) or a scalar tensor.\n",
    "        The network output is modulated as:\n",
    "            ŷ(t) = (1 - exp(-t)) * NN(t)\n",
    "        to enforce ŷ(0) = 0.\n",
    "        \"\"\"\n",
    "        if t.dim() == 0:\n",
    "            t = t.unsqueeze(0)\n",
    "        x = self.activation(self.fc1(t))\n",
    "        out = self.fc2(x)\n",
    "        return (1 - torch.exp(-t)) * out\n",
    "\n",
    "\n",
    "model = PINN().to(device)"
   ]
  },
  {
   "cell_type": "code",
   "execution_count": null,
   "metadata": {},
   "outputs": [
    {
     "data": {
      "text/plain": [
       "PINN(\n",
       "  (fc1): Linear(in_features=1, out_features=100, bias=True)\n",
       "  (fc2): Linear(in_features=100, out_features=5, bias=True)\n",
       "  (activation): Tanh()\n",
       ")"
      ]
     },
     "execution_count": 3,
     "metadata": {},
     "output_type": "execute_result"
    }
   ],
   "source": [
    "# Recreate the model architecture and move it to the appropriate device\n",
    "\n",
    "# Get the current date in YYYY_MM_DD format\n",
    "current_date = datetime.date.today().strftime(\"%Y_%m_%d\")\n",
    "filename = f\"pinn_model_{current_date}.pt\"\n",
    "\n",
    "\n",
    "model_reloaded = PINN().to(device)\n",
    "\n",
    "\n",
    "# Load the saved state dictionary\n",
    "\n",
    "\n",
    "model_reloaded.load_state_dict(torch.load(filename, map_location=device))\n",
    "\n",
    "\n",
    "# Optionally, set the model to evaluation mode\n",
    "model_reloaded.eval()"
   ]
  },
  {
   "cell_type": "code",
   "execution_count": 6,
   "metadata": {},
   "outputs": [
    {
     "name": "stdout",
     "output_type": "stream",
     "text": [
      "t =  0.0, ŷ(t) = [ 0.  0.  0.  0. -0.]\n",
      "t =  2.5, ŷ(t) = [0.76027703 0.64399105 0.3438906  0.8967337  2.743333  ]\n",
      "t =  5.0, ŷ(t) = [0.7262206  0.6388246  0.33385092 0.86810476 2.9816902 ]\n",
      "t =  7.5, ŷ(t) = [0.72618747 0.6352146  0.33321396 0.8663009  2.999563  ]\n",
      "t = 10.0, ŷ(t) = [0.73239946 0.62363756 0.33278432 0.86955106 2.9987428 ]\n",
      "t = 10.1, ŷ(t) = [0.7327253  0.62304866 0.3327165  0.86973536 2.9986863 ]\n"
     ]
    }
   ],
   "source": [
    "# ------------------------------\n",
    "# Evaluate the trained model at select time points\n",
    "# ------------------------------\n",
    "test_times = [0.0, 2.5, 5.0, 7.5, 10.0, 10.1]\n",
    "for t in test_times:\n",
    "    t_tensor = torch.tensor(t, dtype=torch.float32, device=device, requires_grad=True)\n",
    "    y_pred = model_reloaded(t_tensor)\n",
    "    print(f\"t = {t:4.1f}, ŷ(t) = {y_pred.detach().cpu().numpy().flatten()}\")"
   ]
  },
  {
   "cell_type": "code",
   "execution_count": null,
   "metadata": {},
   "outputs": [],
   "source": []
  }
 ],
 "metadata": {
  "kernelspec": {
   "display_name": "Python 3",
   "language": "python",
   "name": "python3"
  },
  "language_info": {
   "codemirror_mode": {
    "name": "ipython",
    "version": 3
   },
   "file_extension": ".py",
   "mimetype": "text/x-python",
   "name": "python",
   "nbconvert_exporter": "python",
   "pygments_lexer": "ipython3",
   "version": "3.13.2"
  }
 },
 "nbformat": 4,
 "nbformat_minor": 2
}
