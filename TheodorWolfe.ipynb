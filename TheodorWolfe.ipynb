{
 "cells": [
  {
   "cell_type": "code",
   "execution_count": 2,
   "metadata": {},
   "outputs": [
    {
     "data": {
      "text/plain": [
       "<torch._C.Generator at 0x27c8fda08d0>"
      ]
     },
     "execution_count": 2,
     "metadata": {},
     "output_type": "execute_result"
    }
   ],
   "source": [
    "import functools\n",
    "import matplotlib.pyplot as plt\n",
    "import numpy as np\n",
    "import torch\n",
    "import seaborn as sns\n",
    "\n",
    "from network import Net, NetDiscovery\n",
    "from diff_equations import *\n",
    "\n",
    "DEVICE = torch.device(\"cuda\" if torch.cuda.is_available() else \"cpu\")\n",
    "\n",
    "sns.set_theme()\n",
    "torch.manual_seed(42)"
   ]
  },
  {
   "cell_type": "code",
   "execution_count": 3,
   "metadata": {},
   "outputs": [],
   "source": [
    "np.random.seed(10)\n",
    "\n",
    "Tenv = 25\n",
    "T0 = 100\n",
    "R = 0.005\n",
    "times = np.linspace(0, 1000, 1000)\n",
    "eq = functools.partial(cooling_law, Tenv=Tenv, T0=T0, R=R)\n",
    "temps = eq(times)\n",
    "\n",
    "# Make training data\n",
    "t = np.linspace(0, 300, 10)\n",
    "T = eq(t) + 2 * np.random.randn(10)\n",
    "\n",
    "# plt.plot(times, temps)\n",
    "# plt.plot(t, T, 'o')\n",
    "# plt.legend(['Equation', 'Training data'])\n",
    "# plt.ylabel('Temperature (C)')\n",
    "# plt.xlabel('Time (s)')"
   ]
  },
  {
   "cell_type": "code",
   "execution_count": null,
   "metadata": {},
   "outputs": [
    {
     "name": "stdout",
     "output_type": "stream",
     "text": [
      "Epoch 0/20000, loss: 4713.88\n",
      "Epoch 2000/20000, loss: 2510.38\n",
      "Epoch 4000/20000, loss: 2143.25\n",
      "Epoch 6000/20000, loss: 727.66\n",
      "Epoch 8000/20000, loss: 88.30\n",
      "Epoch 10000/20000, loss: 1.40\n",
      "Epoch 12000/20000, loss: 0.35\n",
      "Epoch 14000/20000, loss: 0.34\n",
      "Epoch 16000/20000, loss: 0.33\n",
      "Epoch 18000/20000, loss: 0.33\n"
     ]
    }
   ],
   "source": [
    "net = Net(1, 1, loss2=None, epochs=20000, lr=1e-5).to(DEVICE)\n",
    "\n",
    "losses = net.fit(t, T)\n",
    "\n",
    "# plt.plot(losses)\n",
    "# plt.yscale('log')"
   ]
  },
  {
   "cell_type": "code",
   "execution_count": null,
   "metadata": {},
   "outputs": [],
   "source": [
    "def l2_reg(model: torch.nn.Module):\n",
    "    return torch.sum(sum([p.pow(2.0) for p in model.parameters()]))"
   ]
  },
  {
   "cell_type": "code",
   "execution_count": null,
   "metadata": {},
   "outputs": [
    {
     "name": "stdout",
     "output_type": "stream",
     "text": [
      "Epoch 0/20000, loss: 11219.99\n",
      "Epoch 2000/20000, loss: 3915.88\n",
      "Epoch 4000/20000, loss: 2451.49\n",
      "Epoch 6000/20000, loss: 1647.56\n",
      "Epoch 8000/20000, loss: 1229.45\n",
      "Epoch 10000/20000, loss: 1030.59\n",
      "Epoch 12000/20000, loss: 938.03\n",
      "Epoch 14000/20000, loss: 858.53\n",
      "Epoch 16000/20000, loss: 786.94\n",
      "Epoch 18000/20000, loss: 722.30\n"
     ]
    }
   ],
   "source": [
    "netreg = Net(1, 1, loss2=l2_reg, epochs=20000, lr=1e-4, loss2_weight=1).to(DEVICE)\n",
    "\n",
    "losses = netreg.fit(t, T)"
   ]
  },
  {
   "cell_type": "code",
   "execution_count": 7,
   "metadata": {},
   "outputs": [],
   "source": [
    "predsreg = netreg.predict(times)\n",
    "\n",
    "preds = net.predict(times)"
   ]
  },
  {
   "cell_type": "code",
   "execution_count": null,
   "metadata": {},
   "outputs": [],
   "source": [
    "def physics_loss(model: torch.nn.Module):\n",
    "    ts = (\n",
    "        torch.linspace(\n",
    "            0,\n",
    "            1000,\n",
    "            steps=1000,\n",
    "        )\n",
    "        .view(-1, 1)\n",
    "        .requires_grad_(True)\n",
    "        .to(DEVICE)\n",
    "    )\n",
    "    temps = model(ts)\n",
    "    dT = grad(temps, ts)[0]\n",
    "    pde = R * (Tenv - temps) - dT\n",
    "\n",
    "    return torch.mean(pde**2)"
   ]
  },
  {
   "cell_type": "code",
   "execution_count": null,
   "metadata": {},
   "outputs": [
    {
     "name": "stdout",
     "output_type": "stream",
     "text": [
      "Epoch 0/30000, loss: 4775.84\n",
      "Epoch 3000/30000, loss: 2438.49\n",
      "Epoch 6000/30000, loss: 505.04\n",
      "Epoch 9000/30000, loss: 1.70\n",
      "Epoch 12000/30000, loss: 0.55\n",
      "Epoch 15000/30000, loss: 0.47\n",
      "Epoch 18000/30000, loss: 0.38\n",
      "Epoch 21000/30000, loss: 0.34\n",
      "Epoch 24000/30000, loss: 0.33\n",
      "Epoch 27000/30000, loss: 0.34\n"
     ]
    }
   ],
   "source": [
    "net = Net(1, 1, loss2=physics_loss, epochs=30000, loss2_weight=1, lr=1e-5).to(DEVICE)\n",
    "\n",
    "losses = net.fit(t, T)"
   ]
  },
  {
   "cell_type": "code",
   "execution_count": 11,
   "metadata": {},
   "outputs": [],
   "source": [
    "preds = net.predict(times)"
   ]
  },
  {
   "cell_type": "code",
   "execution_count": null,
   "metadata": {},
   "outputs": [],
   "source": [
    "def physics_loss_discovery(model: torch.nn.Module):\n",
    "    ts = (\n",
    "        torch.linspace(\n",
    "            0,\n",
    "            1000,\n",
    "            steps=1000,\n",
    "        )\n",
    "        .view(-1, 1)\n",
    "        .requires_grad_(True)\n",
    "        .to(DEVICE)\n",
    "    )\n",
    "    temps = model(ts)\n",
    "    dT = grad(temps, ts)[0]\n",
    "    pde = model.r * (Tenv - temps) - dT\n",
    "\n",
    "    return torch.mean(pde**2)"
   ]
  },
  {
   "cell_type": "code",
   "execution_count": null,
   "metadata": {},
   "outputs": [
    {
     "name": "stdout",
     "output_type": "stream",
     "text": [
      "Epoch 0/40000, loss: 4816.01\n",
      "Epoch 4000/40000, loss: 2499.91\n",
      "Epoch 8000/40000, loss: 2038.04\n",
      "Epoch 12000/40000, loss: 474.15\n",
      "Epoch 16000/40000, loss: 3.66\n",
      "Epoch 20000/40000, loss: 1.70\n",
      "Epoch 24000/40000, loss: 1.19\n",
      "Epoch 28000/40000, loss: 0.57\n",
      "Epoch 32000/40000, loss: 0.37\n",
      "Epoch 36000/40000, loss: 0.31\n"
     ]
    }
   ],
   "source": [
    "netdisc = NetDiscovery(\n",
    "    1, 1, loss2=physics_loss_discovery, loss2_weight=1, epochs=40000, lr=5e-6\n",
    ").to(DEVICE)\n",
    "\n",
    "losses = netdisc.fit(t, T)"
   ]
  },
  {
   "cell_type": "code",
   "execution_count": null,
   "metadata": {},
   "outputs": [],
   "source": []
  }
 ],
 "metadata": {
  "kernelspec": {
   "display_name": "Python 3",
   "language": "python",
   "name": "python3"
  },
  "language_info": {
   "codemirror_mode": {
    "name": "ipython",
    "version": 3
   },
   "file_extension": ".py",
   "mimetype": "text/x-python",
   "name": "python",
   "nbconvert_exporter": "python",
   "pygments_lexer": "ipython3",
   "version": "3.13.2"
  }
 },
 "nbformat": 4,
 "nbformat_minor": 2
}
